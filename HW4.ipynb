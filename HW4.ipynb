{
  "nbformat": 4,
  "nbformat_minor": 0,
  "metadata": {
    "colab": {
      "provenance": []
    },
    "kernelspec": {
      "name": "python3",
      "display_name": "Python 3"
    },
    "language_info": {
      "name": "python"
    }
  },
  "cells": [
    {
      "cell_type": "markdown",
      "source": [
        "# Homework 4\n",
        "\n",
        "In HW4, we aim to\n",
        "\n",
        "\n",
        "*   Practice regularization. (Ch 6, Ex 3, 4, 5, 11, 60%)\n",
        "*   Practice PCA and K-means. (Ch 12, Ex 5, 6, 10, 40%)\n",
        "\n",
        "\n",
        "\n",
        "\n",
        "**Code block without proper comments will get no point.**\n",
        "\n",
        "## How to Submit\n",
        "Submit the following things to D2L:\n",
        "\n",
        "1.   .ipynb file.\n",
        "2.   Scanned writing problems (extra credits for Latex/Word, 5%, total points up to 100%)\n",
        "\n",
        "\n"
      ],
      "metadata": {
        "id": "w5LFg3lXErIt"
      }
    },
    {
      "cell_type": "markdown",
      "source": [
        "## Written Exercises. Don't forget it.\n",
        "\n",
        "## Programming Exercises below\n",
        "\n",
        "Ch6 Ex 11"
      ],
      "metadata": {
        "id": "02pYISbwLbS_"
      }
    },
    {
      "cell_type": "code",
      "source": [
        "# Insert your code below. Remember to add comments.\n"
      ],
      "metadata": {
        "id": "rfy4FrUdLbS_"
      },
      "execution_count": null,
      "outputs": []
    },
    {
      "cell_type": "markdown",
      "source": [
        "Ch12 Ex 10"
      ],
      "metadata": {
        "id": "OcFmN8DKN9W0"
      }
    },
    {
      "cell_type": "code",
      "source": [
        "# Insert your code below. Remember to add comments.\n"
      ],
      "metadata": {
        "id": "qLqnG3TLOBUD"
      },
      "execution_count": null,
      "outputs": []
    }
  ]
}